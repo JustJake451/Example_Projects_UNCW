{
  "nbformat": 4,
  "nbformat_minor": 0,
  "metadata": {
    "colab": {
      "provenance": [],
      "include_colab_link": true
    },
    "kernelspec": {
      "name": "python3",
      "display_name": "Python 3"
    },
    "language_info": {
      "name": "python"
    }
  },
  "cells": [
    {
      "cell_type": "markdown",
      "metadata": {
        "id": "view-in-github",
        "colab_type": "text"
      },
      "source": [
        "<a href=\"https://colab.research.google.com/github/JustJake451/BAN_403_Group_Project/blob/main/BAN_403_final.ipynb\" target=\"_parent\"><img src=\"https://colab.research.google.com/assets/colab-badge.svg\" alt=\"Open In Colab\"/></a>"
      ]
    },
    {
      "cell_type": "code",
      "execution_count": null,
      "metadata": {
        "colab": {
          "base_uri": "https://localhost:8080/"
        },
        "id": "BsYC_CMRtIxW",
        "outputId": "e4cc7089-0018-4ccf-d8be-d5b60a53f569"
      },
      "outputs": [
        {
          "output_type": "stream",
          "name": "stdout",
          "text": [
            "\u001b[?25l   \u001b[90m━━━━━━━━━━━━━━━━━━━━━━━━━━━━━━━━━━━━━━━━\u001b[0m \u001b[32m0.0/5.7 MB\u001b[0m \u001b[31m?\u001b[0m eta \u001b[36m-:--:--\u001b[0m\r\u001b[2K   \u001b[91m━━━━━━━\u001b[0m\u001b[91m╸\u001b[0m\u001b[90m━━━━━━━━━━━━━━━━━━━━━━━━━━━━━━━━\u001b[0m \u001b[32m1.1/5.7 MB\u001b[0m \u001b[31m33.5 MB/s\u001b[0m eta \u001b[36m0:00:01\u001b[0m\r\u001b[2K   \u001b[91m━━━━━━━━━━━━━━━━━━━━━━━━━━━\u001b[0m\u001b[91m╸\u001b[0m\u001b[90m━━━━━━━━━━━━\u001b[0m \u001b[32m4.0/5.7 MB\u001b[0m \u001b[31m55.9 MB/s\u001b[0m eta \u001b[36m0:00:01\u001b[0m\r\u001b[2K   \u001b[91m━━━━━━━━━━━━━━━━━━━━━━━━━━━━━━━━━━━━━━━\u001b[0m\u001b[91m╸\u001b[0m \u001b[32m5.7/5.7 MB\u001b[0m \u001b[31m64.9 MB/s\u001b[0m eta \u001b[36m0:00:01\u001b[0m\r\u001b[2K   \u001b[90m━━━━━━━━━━━━━━━━━━━━━━━━━━━━━━━━━━━━━━━━\u001b[0m \u001b[32m5.7/5.7 MB\u001b[0m \u001b[31m47.0 MB/s\u001b[0m eta \u001b[36m0:00:00\u001b[0m\n",
            "\u001b[?25h"
          ]
        }
      ],
      "source": [
        "!pip install -q amplpy"
      ]
    },
    {
      "cell_type": "code",
      "source": [
        "from amplpy import AMPL, tools\n",
        "\n",
        "ampl = tools.ampl_notebook(\n",
        "    modules=[\"coin\"],\n",
        "    license_uuid=\"default\")"
      ],
      "metadata": {
        "colab": {
          "base_uri": "https://localhost:8080/"
        },
        "id": "2AFUhF8jtLAb",
        "outputId": "3e2c2bd6-ad86-469c-c897-377938b92b72"
      },
      "execution_count": null,
      "outputs": [
        {
          "output_type": "stream",
          "name": "stdout",
          "text": [
            "Using default Community Edition License for Colab. Get yours at: https://ampl.com/ce\n",
            "Licensed to AMPL Community Edition License for the AMPL Model Colaboratory (https://ampl.com/colab).\n"
          ]
        }
      ]
    },
    {
      "cell_type": "markdown",
      "source": [
        "$x_{wo}$ = 1 if we play team $o$ at home in week $w$, 0 otherwise\n",
        "\n",
        "$y_{wo}$ = 1 if we play team $o$ away in week $w$, 0 otherwise\n",
        "\n",
        "$I$ = Set of all opponents\n",
        "\n",
        "$W$ = Set of all weeks\n",
        "\n",
        "\n",
        "\\[\n",
        "\\begin{align}\n",
        "\\text{Maximize} \\quad & \\sum_{w \\in W} \\sum_{o \\in I} HR_{wo} \\cdot x_{wo} + AR_{wo} \\cdot y_{wo} \\\\\n",
        "\\text{s.t.} \\quad \\notag\n",
        "\\end{align}\n",
        "\\]\n",
        "\n",
        "\\[\n",
        "\\begin{align*}\n",
        "&\\sum_{o \\in I} (x_{wo} + y_{wo}) \\leq 1 && \\forall w \\in W \\quad \\text{(Only one game per week)} \\\\\n",
        "&\\sum_{w \\in W} (x_{wo} + y_{wo}) = 1 && \\forall o \\in I \\quad \\text{(Each opponent appears once)} \\\\\n",
        "&\\sum_{w \\in W} \\sum_{o \\in I} x_{wo} = 6 && \\text{(Total home games)} \\\\\n",
        "&\\sum_{w \\in W} \\sum_{o \\in I} y_{wo} = 6 && \\text{(Total away games)} \\\\\n",
        "&x_{wo}, y_{wo} \\in \\{0, 1\\} && \\forall w \\in W, o \\in I\n",
        "\\end{align*}\n",
        "\\]"
      ],
      "metadata": {
        "id": "2S8s6TIbKrcH"
      }
    },
    {
      "cell_type": "code",
      "source": [
        "%%writefile soccerbasic.mod\n",
        "set Weeks := {1..12};\n",
        "set Opponents := {\"Ironclad FC\", \"Stormbreakers United\", \"Crimson Strikers\", \"Coastal Rovers\", \"Blazing Barracudas\", \"Highland Havoc\", \"Emerald Thunder\"};\n",
        "\n",
        "var x{w in Weeks, o in Opponents} binary;\n",
        "var y{w in Weeks, o in Opponents} binary;\n",
        "\n",
        "param HR{w in Weeks, o in Opponents};\n",
        "param AR{w in Weeks, o in Opponents};\n",
        "\n",
        "maximize Z: sum{w in Weeks, o in Opponents} (HR[w,o] * x[w,o]) + sum {w in Weeks, o in Opponents} (AR[w,o] * y[w,o]);\n",
        "\n",
        "# Constraints\n",
        "s.t. NoThreeConsecAway{w in 1..10}: sum{o in Opponents} y[w,o] + sum{o in Opponents} y[w+1,o] + sum{o in Opponents} y[w+2,o] <= 2;\n",
        "s.t. NoFourConsecHome{w in 1..9}: sum{o in Opponents} x[w,o] + sum{o in Opponents} x[w+1,o] + sum{o in Opponents} x[w+2,o] + sum{o in Opponents} x[w+3,o] <= 3;\n",
        "s.t. Week{w in Weeks}: sum{o in Opponents} (x[w,o] + y[w,o]) = 1;\n",
        "s.t. HomeGames: sum{w in Weeks, o in Opponents} x[w,o] = 6;\n",
        "s.t. Opponent{o in Opponents}: sum{w in Weeks} (x[w,o] + y[w,o]) <= 2;\n",
        "\n",
        "\n"
      ],
      "metadata": {
        "id": "IbeLloP934ph",
        "colab": {
          "base_uri": "https://localhost:8080/"
        },
        "outputId": "2c885294-8634-4854-a644-afccde1944b6"
      },
      "execution_count": null,
      "outputs": [
        {
          "output_type": "stream",
          "name": "stdout",
          "text": [
            "Writing soccerbasic.mod\n"
          ]
        }
      ]
    },
    {
      "cell_type": "code",
      "source": [
        "%%writefile soccerbasic.dat\n",
        "param HR: \"Ironclad FC\" \"Stormbreakers United\" \"Crimson Strikers\" \"Coastal Rovers\" \"Blazing Barracudas\" \"Highland Havoc\" \"Emerald Thunder\":=\n",
        "1 7800 4500 9200 3300 8100 5900 9800\n",
        "2 3100 7600 4200 8800 5300 9700 6900\n",
        "3 9900 5500 8700 3100 6400 9100 4800\n",
        "4 4400 8800 3300 7500 5600 9500 6700\n",
        "5 8000 3400 6600 9300 4700 8900 3000\n",
        "6 5800 9200 4100 8600 6300 9000 3500\n",
        "7 9100 4700 8900 6400 9500 3200 7700\n",
        "8 4200 8700 6800 9900 3000 7400 5100\n",
        "9 7500 6200 9400 4900 8500 3600 7000\n",
        "10 6100 9600 3700 7100 5200 8300 9700\n",
        "11 3900 7000 5300 8200 9900 4400 6500\n",
        "12 7200 3800 8400 5100 9000 6700 4300;\n",
        "\n",
        "param AR: \"Ironclad FC\" \"Stormbreakers United\" \"Crimson Strikers\" \"Coastal Rovers\" \"Blazing Barracudas\" \"Highland Havoc\" \"Emerald Thunder\":=\n",
        "1 3900 2250 4600 1650 4050 2950 4900\n",
        "2 1550 3800 2100 4400 2650 4850 3450\n",
        "3 4950 2750 4350 1550 3200 4550 2400\n",
        "4 2200 4400 1650 3750 2800 4800 3350\n",
        "5 4000 1700 3300 4650 2350 4450 1500\n",
        "6 2900 4600 2050 4300 3150 4500 1750\n",
        "7 4550 2350 4450 3200 4750 1600 3850\n",
        "8 2100 4350 3400 4950 1500 3700 2550\n",
        "9 3750 3100 4700 2450 4250 1800 3500\n",
        "10 3050 4800 1850 3550 2600 4150 4850\n",
        "11 1950 3500 2650 4100 4950 2200 3250\n",
        "12 3600 1900 4200 2550 4500 3350 2150;\n"
      ],
      "metadata": {
        "colab": {
          "base_uri": "https://localhost:8080/"
        },
        "id": "M_9-pJQ4CA0P",
        "outputId": "251ddd1a-a6bf-4af0-bd42-b4ff3cc4c7e7"
      },
      "execution_count": null,
      "outputs": [
        {
          "output_type": "stream",
          "name": "stdout",
          "text": [
            "Writing soccerbasic.dat\n"
          ]
        }
      ]
    },
    {
      "cell_type": "code",
      "source": [
        "%%ampl_eval\n",
        "\n",
        "reset;\n",
        "\n",
        "model soccerbasic.mod;\n",
        "data soccerbasic.dat;\n",
        "\n",
        "option solver cbc;\n",
        "\n",
        "solve;\n",
        "\n",
        "display Z,x,y, HR, AR ;"
      ],
      "metadata": {
        "colab": {
          "base_uri": "https://localhost:8080/"
        },
        "id": "jh9JLydIGiM6",
        "outputId": "6b5bc7db-4710-45dd-bd56-5b5402c6b89f"
      },
      "execution_count": null,
      "outputs": [
        {
          "output_type": "stream",
          "name": "stdout",
          "text": [
            "cbc 2.10.12: \b\b\b\b\b\b\b\b\b\b\b\b\bcbc 2.10.12: optimal solution; objective 86500\n",
            "0 simplex iterations\n",
            "Z = 86500\n",
            "\n",
            ":                           x   y    HR     AR     :=\n",
            "1  'Blazing Barracudas'     0   0   8100   4050\n",
            "1  'Coastal Rovers'         0   0   3300   1650\n",
            "1  'Crimson Strikers'       0   0   9200   4600\n",
            "1  'Emerald Thunder'        1   0   9800   4900\n",
            "1  'Highland Havoc'         0   0   5900   2950\n",
            "1  'Ironclad FC'            0   0   7800   3900\n",
            "1  'Stormbreakers United'   0   0   4500   2250\n",
            "2  'Blazing Barracudas'     0   0   5300   2650\n",
            "2  'Coastal Rovers'         0   0   8800   4400\n",
            "2  'Crimson Strikers'       0   0   4200   2100\n",
            "2  'Emerald Thunder'        0   0   6900   3450\n",
            "2  'Highland Havoc'         0   1   9700   4850\n",
            "2  'Ironclad FC'            0   0   3100   1550\n",
            "2  'Stormbreakers United'   0   0   7600   3800\n",
            "3  'Blazing Barracudas'     0   0   6400   3200\n",
            "3  'Coastal Rovers'         0   0   3100   1550\n",
            "3  'Crimson Strikers'       0   0   8700   4350\n",
            "3  'Emerald Thunder'        0   0   4800   2400\n",
            "3  'Highland Havoc'         0   0   9100   4550\n",
            "3  'Ironclad FC'            1   0   9900   4950\n",
            "3  'Stormbreakers United'   0   0   5500   2750\n",
            "4  'Blazing Barracudas'     0   0   5600   2800\n",
            "4  'Coastal Rovers'         0   0   7500   3750\n",
            "4  'Crimson Strikers'       0   0   3300   1650\n",
            "4  'Emerald Thunder'        0   0   6700   3350\n",
            "4  'Highland Havoc'         0   1   9500   4800\n",
            "4  'Ironclad FC'            0   0   4400   2200\n",
            "4  'Stormbreakers United'   0   0   8800   4400\n",
            "5  'Blazing Barracudas'     0   0   4700   2350\n",
            "5  'Coastal Rovers'         1   0   9300   4650\n",
            "5  'Crimson Strikers'       0   0   6600   3300\n",
            "5  'Emerald Thunder'        0   0   3000   1500\n",
            "5  'Highland Havoc'         0   0   8900   4450\n",
            "5  'Ironclad FC'            0   0   8000   4000\n",
            "5  'Stormbreakers United'   0   0   3400   1700\n",
            "6  'Blazing Barracudas'     0   0   6300   3150\n",
            "6  'Coastal Rovers'         0   0   8600   4300\n",
            "6  'Crimson Strikers'       0   0   4100   2050\n",
            "6  'Emerald Thunder'        0   0   3500   1750\n",
            "6  'Highland Havoc'         0   0   9000   4500\n",
            "6  'Ironclad FC'            0   0   5800   2900\n",
            "6  'Stormbreakers United'   0   1   9200   4600\n",
            "7  'Blazing Barracudas'     0   0   9500   4750\n",
            "7  'Coastal Rovers'         0   0   6400   3200\n",
            "7  'Crimson Strikers'       0   0   8900   4450\n",
            "7  'Emerald Thunder'        0   0   7700   3850\n",
            "7  'Highland Havoc'         0   0   3200   1600\n",
            "7  'Ironclad FC'            0   1   9100   4550\n",
            "7  'Stormbreakers United'   0   0   4700   2350\n",
            "8  'Blazing Barracudas'     0   0   3000   1500\n",
            "8  'Coastal Rovers'         1   0   9900   4950\n",
            "8  'Crimson Strikers'       0   0   6800   3400\n",
            "8  'Emerald Thunder'        0   0   5100   2550\n",
            "8  'Highland Havoc'         0   0   7400   3700\n",
            "8  'Ironclad FC'            0   0   4200   2100\n",
            "8  'Stormbreakers United'   0   0   8700   4350\n",
            "9  'Blazing Barracudas'     0   0   8500   4250\n",
            "9  'Coastal Rovers'         0   0   4900   2450\n",
            "9  'Crimson Strikers'       0   1   9400   4700\n",
            "9  'Emerald Thunder'        0   0   7000   3500\n",
            "9  'Highland Havoc'         0   0   3600   1800\n",
            "9  'Ironclad FC'            0   0   7500   3750\n",
            "9  'Stormbreakers United'   0   0   6200   3100\n",
            "10 'Blazing Barracudas'     0   0   5200   2600\n",
            "10 'Coastal Rovers'         0   0   7100   3550\n",
            "10 'Crimson Strikers'       0   0   3700   1850\n",
            "10 'Emerald Thunder'        1   0   9700   4850\n",
            "10 'Highland Havoc'         0   0   8300   4150\n",
            "10 'Ironclad FC'            0   0   6100   3050\n",
            "10 'Stormbreakers United'   0   0   9600   4800\n",
            "11 'Blazing Barracudas'     1   0   9900   4950\n",
            "11 'Coastal Rovers'         0   0   8200   4100\n",
            "11 'Crimson Strikers'       0   0   5300   2650\n",
            "11 'Emerald Thunder'        0   0   6500   3250\n",
            "11 'Highland Havoc'         0   0   4400   2200\n",
            "11 'Ironclad FC'            0   0   3900   1950\n",
            "11 'Stormbreakers United'   0   0   7000   3500\n",
            "12 'Blazing Barracudas'     0   1   9000   4500\n",
            "12 'Coastal Rovers'         0   0   5100   2550\n",
            "12 'Crimson Strikers'       0   0   8400   4200\n",
            "12 'Emerald Thunder'        0   0   4300   2150\n",
            "12 'Highland Havoc'         0   0   6700   3350\n",
            "12 'Ironclad FC'            0   0   7200   3600\n",
            "12 'Stormbreakers United'   0   0   3800   1900\n",
            ";\n",
            "\n"
          ]
        }
      ]
    }
  ]
}